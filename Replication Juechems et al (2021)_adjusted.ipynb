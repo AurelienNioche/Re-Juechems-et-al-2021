{
 "cells": [
  {
   "cell_type": "code",
   "execution_count": 1,
   "id": "split-pickup",
   "metadata": {
    "scrolled": true
   },
   "outputs": [],
   "source": [
    "import itertools as it\n",
    "import pandas as pd\n",
    "import numpy as np\n",
    "import scipy.optimize\n",
    "from scipy.special import expit\n",
    "import matplotlib.pyplot as plt"
   ]
  },
  {
   "cell_type": "code",
   "execution_count": 2,
   "id": "environmental-neighborhood",
   "metadata": {
    "scrolled": true
   },
   "outputs": [],
   "source": [
    "# Seed\n",
    "np.random.seed(123)"
   ]
  },
  {
   "cell_type": "markdown",
   "id": "outside-marine",
   "metadata": {},
   "source": [
    "# Reward functions"
   ]
  },
  {
   "cell_type": "code",
   "execution_count": 3,
   "id": "canadian-sweet",
   "metadata": {
    "scrolled": true
   },
   "outputs": [],
   "source": [
    "def h(p):\n",
    "    return - p * np.log(p)-(1-p) * np.log(1-p)"
   ]
  },
  {
   "cell_type": "code",
   "execution_count": 4,
   "id": "unable-fortune",
   "metadata": {
    "scrolled": true
   },
   "outputs": [],
   "source": [
    "def reward_only(p, x):\n",
    "    return p*x\n",
    "\n",
    "def reward_and_certainty(p, x):\n",
    "    return p*x * (1-h(p))"
   ]
  },
  {
   "cell_type": "markdown",
   "id": "fleet-branch",
   "metadata": {},
   "source": [
    "# Parametrization"
   ]
  },
  {
   "cell_type": "code",
   "execution_count": 5,
   "id": "eight-booth",
   "metadata": {
    "scrolled": true
   },
   "outputs": [],
   "source": [
    "TAU = 0.1\n",
    "REWARD = reward_only\n",
    "STEPS = np.linspace(0.01,0.99, 10)"
   ]
  },
  {
   "cell_type": "markdown",
   "id": "registered-speaker",
   "metadata": {},
   "source": [
    "# Make lotteries"
   ]
  },
  {
   "cell_type": "code",
   "execution_count": 6,
   "id": "removed-cleaners",
   "metadata": {
    "scrolled": true
   },
   "outputs": [
    {
     "data": {
      "text/html": [
       "<div>\n",
       "<style scoped>\n",
       "    .dataframe tbody tr th:only-of-type {\n",
       "        vertical-align: middle;\n",
       "    }\n",
       "\n",
       "    .dataframe tbody tr th {\n",
       "        vertical-align: top;\n",
       "    }\n",
       "\n",
       "    .dataframe thead th {\n",
       "        text-align: right;\n",
       "    }\n",
       "</style>\n",
       "<table border=\"1\" class=\"dataframe\">\n",
       "  <thead>\n",
       "    <tr style=\"text-align: right;\">\n",
       "      <th></th>\n",
       "      <th>p0</th>\n",
       "      <th>x0</th>\n",
       "      <th>p1</th>\n",
       "      <th>x1</th>\n",
       "    </tr>\n",
       "  </thead>\n",
       "  <tbody>\n",
       "    <tr>\n",
       "      <th>0</th>\n",
       "      <td>0.01</td>\n",
       "      <td>0.01</td>\n",
       "      <td>0.01</td>\n",
       "      <td>0.010000</td>\n",
       "    </tr>\n",
       "    <tr>\n",
       "      <th>1</th>\n",
       "      <td>0.01</td>\n",
       "      <td>0.01</td>\n",
       "      <td>0.01</td>\n",
       "      <td>0.118889</td>\n",
       "    </tr>\n",
       "    <tr>\n",
       "      <th>2</th>\n",
       "      <td>0.01</td>\n",
       "      <td>0.01</td>\n",
       "      <td>0.01</td>\n",
       "      <td>0.227778</td>\n",
       "    </tr>\n",
       "    <tr>\n",
       "      <th>3</th>\n",
       "      <td>0.01</td>\n",
       "      <td>0.01</td>\n",
       "      <td>0.01</td>\n",
       "      <td>0.336667</td>\n",
       "    </tr>\n",
       "    <tr>\n",
       "      <th>4</th>\n",
       "      <td>0.01</td>\n",
       "      <td>0.01</td>\n",
       "      <td>0.01</td>\n",
       "      <td>0.445556</td>\n",
       "    </tr>\n",
       "    <tr>\n",
       "      <th>...</th>\n",
       "      <td>...</td>\n",
       "      <td>...</td>\n",
       "      <td>...</td>\n",
       "      <td>...</td>\n",
       "    </tr>\n",
       "    <tr>\n",
       "      <th>9995</th>\n",
       "      <td>0.99</td>\n",
       "      <td>0.99</td>\n",
       "      <td>0.99</td>\n",
       "      <td>0.554444</td>\n",
       "    </tr>\n",
       "    <tr>\n",
       "      <th>9996</th>\n",
       "      <td>0.99</td>\n",
       "      <td>0.99</td>\n",
       "      <td>0.99</td>\n",
       "      <td>0.663333</td>\n",
       "    </tr>\n",
       "    <tr>\n",
       "      <th>9997</th>\n",
       "      <td>0.99</td>\n",
       "      <td>0.99</td>\n",
       "      <td>0.99</td>\n",
       "      <td>0.772222</td>\n",
       "    </tr>\n",
       "    <tr>\n",
       "      <th>9998</th>\n",
       "      <td>0.99</td>\n",
       "      <td>0.99</td>\n",
       "      <td>0.99</td>\n",
       "      <td>0.881111</td>\n",
       "    </tr>\n",
       "    <tr>\n",
       "      <th>9999</th>\n",
       "      <td>0.99</td>\n",
       "      <td>0.99</td>\n",
       "      <td>0.99</td>\n",
       "      <td>0.990000</td>\n",
       "    </tr>\n",
       "  </tbody>\n",
       "</table>\n",
       "<p>10000 rows × 4 columns</p>\n",
       "</div>"
      ],
      "text/plain": [
       "        p0    x0    p1        x1\n",
       "0     0.01  0.01  0.01  0.010000\n",
       "1     0.01  0.01  0.01  0.118889\n",
       "2     0.01  0.01  0.01  0.227778\n",
       "3     0.01  0.01  0.01  0.336667\n",
       "4     0.01  0.01  0.01  0.445556\n",
       "...    ...   ...   ...       ...\n",
       "9995  0.99  0.99  0.99  0.554444\n",
       "9996  0.99  0.99  0.99  0.663333\n",
       "9997  0.99  0.99  0.99  0.772222\n",
       "9998  0.99  0.99  0.99  0.881111\n",
       "9999  0.99  0.99  0.99  0.990000\n",
       "\n",
       "[10000 rows x 4 columns]"
      ]
     },
     "execution_count": 6,
     "metadata": {},
     "output_type": "execute_result"
    }
   ],
   "source": [
    "task = pd.DataFrame(np.array(list(it.product(STEPS, repeat=4))), columns=[\"p0\", \"x0\", \"p1\", \"x1\"])\n",
    "task"
   ]
  },
  {
   "cell_type": "code",
   "execution_count": 7,
   "id": "forbidden-welsh",
   "metadata": {
    "scrolled": true
   },
   "outputs": [],
   "source": [
    "task = task[~((task.p0 >= task.p1) & (task.x0 >= task.x1))]\n",
    "task = task[~((task.p1 >= task.p0) & (task.x1 >= task.x0))]\n",
    "task.reset_index(inplace=True, drop=True)\n",
    "task"
   ]
  },
  {
   "cell_type": "code",
   "execution_count": 8,
   "id": "classified-webmaster",
   "metadata": {
    "scrolled": true
   },
   "outputs": [],
   "source": [
    "# Format data\n",
    "p = np.vstack((task.p0.values, task.p1.values)).T\n",
    "x = np.vstack((task.x0.values, task.x1.values)).T\n",
    "n_trial, n_option = p.shape\n",
    "data = {\n",
    "    \"steps\": STEPS,\n",
    "    \"p\": p,\n",
    "    \"x\": x\n",
    "}"
   ]
  },
  {
   "cell_type": "markdown",
   "id": "premier-muscle",
   "metadata": {},
   "source": [
    "# Objective function"
   ]
  },
  {
   "cell_type": "code",
   "execution_count": 9,
   "id": "intimate-oxide",
   "metadata": {
    "scrolled": true
   },
   "outputs": [],
   "source": [
    "def objective(param, data, reward_function, tau):\n",
    "    \n",
    "    p = data[\"p\"]\n",
    "    x = data[\"x\"]\n",
    "    steps = data[\"steps\"]\n",
    "\n",
    "    n_trial, n_option = p.shape\n",
    "    \n",
    "    su_function = dict(zip(steps, param[:len(steps)]))\n",
    "    sp_function = dict(zip(steps, param[len(steps):]))\n",
    "    \n",
    "    su = np.zeros((n_trial, n_option))\n",
    "    sp = np.zeros((n_trial, n_option))\n",
    "    \n",
    "    for i in range(n_trial):\n",
    "        for j in range(n_option):\n",
    "            su[i, j] = su_function[x[i, j]]\n",
    "            sp[i, j] = sp_function[p[i, j]]\n",
    "            \n",
    "    seu = sp * su\n",
    "    \n",
    "    p_choice_1 = expit((seu[:, 1] - seu[:, 0])/tau)\n",
    "    \n",
    "    r = np.zeros(n_trial)\n",
    "    for i in range(n_trial):\n",
    "        # Difference in loss function\n",
    "        r[i] = p_choice_1[i] * reward_function(p=p[i, 1], x=x[i, 1]) \\\n",
    "            + (1-p_choice_1[i]) * reward_function(p=p[i, 0], x=x[i, 0]) \n",
    "        \n",
    "    return - r.sum()"
   ]
  },
  {
   "cell_type": "markdown",
   "id": "restricted-transition",
   "metadata": {},
   "source": [
    "# Run"
   ]
  },
  {
   "cell_type": "code",
   "execution_count": 10,
   "id": "cheap-pathology",
   "metadata": {
    "scrolled": false
   },
   "outputs": [
    {
     "data": {
      "text/plain": [
       "      fun: -3727.599281447854\n",
       " hess_inv: <20x20 LbfgsInvHessProduct with dtype=float64>\n",
       "      jac: array([ 3.48903541e+01, -1.36424205e-04,  1.27329258e-03, -9.54969432e-04,\n",
       "       -1.27329258e-03,  1.36424205e-03,  7.27595758e-04, -3.63797879e-04,\n",
       "       -4.24177413e+01, -9.01887684e+01,  3.48903541e+01,  0.00000000e+00,\n",
       "        1.22781785e-03, -8.64019962e-04, -1.27329258e-03,  1.31876731e-03,\n",
       "        8.18545227e-04, -3.18323144e-04, -4.24177413e+01, -9.01887684e+01])\n",
       "  message: 'CONVERGENCE: REL_REDUCTION_OF_F_<=_FACTR*EPSMCH'\n",
       "     nfev: 210\n",
       "      nit: 8\n",
       "     njev: 10\n",
       "   status: 0\n",
       "  success: True\n",
       "        x: array([0.        , 0.18595695, 0.37635402, 0.52630366, 0.65570263,\n",
       "       0.77064892, 0.87746404, 0.98707873, 1.        , 1.        ,\n",
       "       0.        , 0.18595711, 0.37635406, 0.52630382, 0.65570253,\n",
       "       0.77064889, 0.87746425, 0.98707889, 1.        , 1.        ])"
      ]
     },
     "execution_count": 10,
     "metadata": {},
     "output_type": "execute_result"
    }
   ],
   "source": [
    "# Define bounds and an initial guess\n",
    "n_param = 2 * len(STEPS)\n",
    "bounds = [(0., 1.) for _ in range(n_param)]\n",
    "init_guess = np.hstack((STEPS, STEPS))\n",
    "\n",
    "# Run the optimizer\n",
    "res = scipy.optimize.minimize(\n",
    "    fun=objective,\n",
    "    x0=init_guess,\n",
    "    bounds=bounds,\n",
    "    args=(data, REWARD, TAU))\n",
    "res"
   ]
  },
  {
   "cell_type": "markdown",
   "id": "partial-pledge",
   "metadata": {},
   "source": [
    "A '[OptimizeResult](https://docs.scipy.org/doc/scipy/reference/generated/scipy.optimize.OptimizeResult.html#scipy.optimize.OptimizeResult)' is returned. It contains:\n",
    "* `fun` (NumPy array): Value of objective function.\n",
    "* `hess_inv` (object): Inverse of the objective function’s Hessian; may be an approximation. Not available for all solvers. The type of this attribute may be either np.ndarray or scipy.sparse.linalg.LinearOperator. Here, it is a scipy.sparse.linalg.LinearOperator.\n",
    "* `jac` (NumPy array): Value of the Jacobian.\n",
    "* `nfev` (int): Number of evaluations of the objective functions.\n",
    "* `message` (str): Description of the cause of the termination.\n",
    "* `nit` (int): Number of iterations performed by the optimizer.\n",
    "* `njev` (int): Number of evaluations of the objective functions and of its Jacobian.\n",
    "* `status` (int): Termination status of the optimizer. Its value depends on the underlying solver. Refer to message for details.\n",
    "* `success` (bool): Whether or not the optimizer exited successfully.\n",
    "* `x` (NumPy array): the solution of the optimization."
   ]
  },
  {
   "cell_type": "code",
   "execution_count": 11,
   "id": "reduced-alaska",
   "metadata": {
    "scrolled": true
   },
   "outputs": [
    {
     "data": {
      "text/html": [
       "<div>\n",
       "<style scoped>\n",
       "    .dataframe tbody tr th:only-of-type {\n",
       "        vertical-align: middle;\n",
       "    }\n",
       "\n",
       "    .dataframe tbody tr th {\n",
       "        vertical-align: top;\n",
       "    }\n",
       "\n",
       "    .dataframe thead th {\n",
       "        text-align: right;\n",
       "    }\n",
       "</style>\n",
       "<table border=\"1\" class=\"dataframe\">\n",
       "  <thead>\n",
       "    <tr style=\"text-align: right;\">\n",
       "      <th></th>\n",
       "      <th>steps</th>\n",
       "      <th>su</th>\n",
       "      <th>sp</th>\n",
       "    </tr>\n",
       "  </thead>\n",
       "  <tbody>\n",
       "    <tr>\n",
       "      <th>0</th>\n",
       "      <td>0.010000</td>\n",
       "      <td>0.000000</td>\n",
       "      <td>0.000000</td>\n",
       "    </tr>\n",
       "    <tr>\n",
       "      <th>1</th>\n",
       "      <td>0.118889</td>\n",
       "      <td>0.185957</td>\n",
       "      <td>0.185957</td>\n",
       "    </tr>\n",
       "    <tr>\n",
       "      <th>2</th>\n",
       "      <td>0.227778</td>\n",
       "      <td>0.376354</td>\n",
       "      <td>0.376354</td>\n",
       "    </tr>\n",
       "    <tr>\n",
       "      <th>3</th>\n",
       "      <td>0.336667</td>\n",
       "      <td>0.526304</td>\n",
       "      <td>0.526304</td>\n",
       "    </tr>\n",
       "    <tr>\n",
       "      <th>4</th>\n",
       "      <td>0.445556</td>\n",
       "      <td>0.655703</td>\n",
       "      <td>0.655703</td>\n",
       "    </tr>\n",
       "    <tr>\n",
       "      <th>5</th>\n",
       "      <td>0.554444</td>\n",
       "      <td>0.770649</td>\n",
       "      <td>0.770649</td>\n",
       "    </tr>\n",
       "    <tr>\n",
       "      <th>6</th>\n",
       "      <td>0.663333</td>\n",
       "      <td>0.877464</td>\n",
       "      <td>0.877464</td>\n",
       "    </tr>\n",
       "    <tr>\n",
       "      <th>7</th>\n",
       "      <td>0.772222</td>\n",
       "      <td>0.987079</td>\n",
       "      <td>0.987079</td>\n",
       "    </tr>\n",
       "    <tr>\n",
       "      <th>8</th>\n",
       "      <td>0.881111</td>\n",
       "      <td>1.000000</td>\n",
       "      <td>1.000000</td>\n",
       "    </tr>\n",
       "    <tr>\n",
       "      <th>9</th>\n",
       "      <td>0.990000</td>\n",
       "      <td>1.000000</td>\n",
       "      <td>1.000000</td>\n",
       "    </tr>\n",
       "  </tbody>\n",
       "</table>\n",
       "</div>"
      ],
      "text/plain": [
       "      steps        su        sp\n",
       "0  0.010000  0.000000  0.000000\n",
       "1  0.118889  0.185957  0.185957\n",
       "2  0.227778  0.376354  0.376354\n",
       "3  0.336667  0.526304  0.526304\n",
       "4  0.445556  0.655703  0.655703\n",
       "5  0.554444  0.770649  0.770649\n",
       "6  0.663333  0.877464  0.877464\n",
       "7  0.772222  0.987079  0.987079\n",
       "8  0.881111  1.000000  1.000000\n",
       "9  0.990000  1.000000  1.000000"
      ]
     },
     "execution_count": 11,
     "metadata": {},
     "output_type": "execute_result"
    }
   ],
   "source": [
    "su = res.x[:len(STEPS)]\n",
    "sp = res.x[len(STEPS):]\n",
    "pd.DataFrame({\"steps\": STEPS, \"su\": su, \"sp\": sp})"
   ]
  },
  {
   "cell_type": "markdown",
   "id": "armed-prairie",
   "metadata": {},
   "source": [
    "# Plot"
   ]
  },
  {
   "cell_type": "markdown",
   "id": "weighted-presence",
   "metadata": {},
   "source": [
    "## Model-free utility function"
   ]
  },
  {
   "cell_type": "code",
   "execution_count": 12,
   "id": "welsh-spectacular",
   "metadata": {
    "scrolled": false
   },
   "outputs": [
    {
     "data": {
      "image/png": "[encoded data removed]",
      "text/plain": [
       "<Figure size 432x432 with 1 Axes>"
      ]
     },
     "metadata": {
      "needs_background": "light"
     },
     "output_type": "display_data"
    }
   ],
   "source": [
    "# Create fig\n",
    "fig, ax = plt.subplots(figsize=(6, 6))\n",
    "\n",
    "# Set limits\n",
    "x_min, x_max = 0, 1\n",
    "y_min, y_max = 0, 1\n",
    "\n",
    "# Plot estimate\n",
    "ax.plot(STEPS, su)\n",
    "ax.plot([x_min,x_max],[y_min,y_max],'k--') # identity line\n",
    "\n",
    "# Pimp your plot\n",
    "ax.set_xlabel('x')\n",
    "ax.set_ylabel('u(x)')\n",
    "ax.set_title('Optimal model-free utility function')\n",
    "ax.set_xlim(x_min, x_max)\n",
    "ax.set_ylim(y_min, y_max)\n",
    "\n",
    "coord = np.vstack((STEPS, su))\n",
    "ax.scatter(coord[0], coord[1], alpha=0.5)\n",
    "\n",
    "plt.tight_layout()\n",
    "plt.show()"
   ]
  },
  {
   "cell_type": "markdown",
   "id": "cognitive-strike",
   "metadata": {},
   "source": [
    "## Model-free probability function"
   ]
  },
  {
   "cell_type": "code",
   "execution_count": 13,
   "id": "advance-justice",
   "metadata": {
    "scrolled": false
   },
   "outputs": [
    {
     "data": {
      "image/png": "[encoded data removed]",
      "text/plain": [
       "<Figure size 432x432 with 1 Axes>"
      ]
     },
     "metadata": {
      "needs_background": "light"
     },
     "output_type": "display_data"
    }
   ],
   "source": [
    "# Create fig\n",
    "fig, ax = plt.subplots(figsize=(6, 6))\n",
    "\n",
    "# Set limits\n",
    "x_min, x_max = 0, 1\n",
    "y_min, y_max = 0, 1\n",
    "\n",
    "# Plot estimate\n",
    "ax.plot(STEPS, sp)\n",
    "ax.plot([x_min,x_max],[y_min,y_max],'k--') # identity line\n",
    "\n",
    "# Pimp your plot\n",
    "ax.set_xlabel('p')\n",
    "ax.set_ylabel('w(p)')\n",
    "ax.set_title('Optimal model-free probability function')\n",
    "ax.set_xlim(x_min, x_max)\n",
    "ax.set_ylim(y_min, y_max)\n",
    "\n",
    "coord = np.vstack((STEPS, sp))\n",
    "ax.scatter(coord[0], coord[1], alpha=0.5)\n",
    "\n",
    "plt.show()"
   ]
  },
  {
   "cell_type": "markdown",
   "id": "numeric-preview",
   "metadata": {},
   "source": [
    "## Softmax function"
   ]
  },
  {
   "cell_type": "code",
   "execution_count": 17,
   "id": "mature-chapel",
   "metadata": {
    "scrolled": true
   },
   "outputs": [
    {
     "data": {
      "image/png": "[encoded data removed]",
      "text/plain": [
       "<Figure size 432x432 with 1 Axes>"
      ]
     },
     "metadata": {
      "needs_background": "light"
     },
     "output_type": "display_data"
    }
   ],
   "source": [
    "# Softmax function given the difference of value between 2 options\n",
    "def f(x):\n",
    "    return expit(x/TAU)\n",
    "\n",
    "# Create fig\n",
    "fig, ax = plt.subplots(figsize=(6, 6))\n",
    "\n",
    "# Set limits\n",
    "x_min, x_max = -1, 1\n",
    "y_min, y_max = 0, 1\n",
    "\n",
    "# Generate x-values\n",
    "x = np.linspace(x_min, x_max, 100)\n",
    "\n",
    "# Plot function\n",
    "ax.plot(x, f(x), ls=':', label='constraint', color=\"red\")\n",
    "\n",
    "# Pimp your plot\n",
    "ax.set_xlabel('$SEU(L_1) - SEU(L_2)$')\n",
    "ax.set_ylabel('$P(L_1)$')\n",
    "ax.set_title('Softmax function')\n",
    "ax.set_xlim(x_min, x_max)\n",
    "ax.set_ylim(y_min, y_max)\n",
    "ax.legend()\n",
    "\n",
    "plt.show()"
   ]
  },
  {
   "cell_type": "code",
   "execution_count": null,
   "id": "refined-reply",
   "metadata": {
    "scrolled": true
   },
   "outputs": [],
   "source": []
  }
 ],
 "metadata": {
  "kernelspec": {
   "display_name": "Python 3",
   "language": "python",
   "name": "python3"
  },
  "language_info": {
   "codemirror_mode": {
    "name": "ipython",
    "version": 3
   },
   "file_extension": ".py",
   "mimetype": "text/x-python",
   "name": "python",
   "nbconvert_exporter": "python",
   "pygments_lexer": "ipython3",
   "version": "3.9.1"
  }
 },
 "nbformat": 4,
 "nbformat_minor": 5
}
